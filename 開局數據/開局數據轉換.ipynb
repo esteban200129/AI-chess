{
 "cells": [
  {
   "cell_type": "code",
   "execution_count": 1,
   "id": "b4d2c5a6-2d63-4e1c-87c4-745c5ce45715",
   "metadata": {},
   "outputs": [
    {
     "name": "stdout",
     "output_type": "stream",
     "text": [
      "正在處理檔案: a.tsv\n",
      "正在處理檔案: b.tsv\n",
      "正在處理檔案: c.tsv\n",
      "正在處理檔案: d.tsv\n",
      "正在處理檔案: e.tsv\n",
      "所有檔案已合併完成，JSON 檔案儲存為: openings.json\n"
     ]
    }
   ],
   "source": [
    "import csv\n",
    "import json\n",
    "\n",
    "# 定義要處理的 TSV 檔案名稱\n",
    "tsv_files = [\"a.tsv\", \"b.tsv\", \"c.tsv\", \"d.tsv\", \"e.tsv\"]\n",
    "output_json = \"openings.json\"  # 輸出的 JSON 檔案名稱\n",
    "\n",
    "# 函數: 讀取單個 TSV 檔案並轉換為 JSON\n",
    "def tsv_to_json(tsv_file):\n",
    "    json_data = []\n",
    "    with open(tsv_file, \"r\", encoding=\"utf-8\") as file:\n",
    "        reader = csv.DictReader(file, delimiter=\"\\t\")\n",
    "        for row in reader:\n",
    "            json_data.append(row)\n",
    "    return json_data\n",
    "\n",
    "# 合併所有 TSV 檔案\n",
    "combined_data = []\n",
    "for tsv_file in tsv_files:\n",
    "    print(f\"正在處理檔案: {tsv_file}\")\n",
    "    combined_data.extend(tsv_to_json(tsv_file))\n",
    "\n",
    "# 寫入 JSON 檔案\n",
    "with open(output_json, \"w\", encoding=\"utf-8\") as json_file:\n",
    "    json.dump(combined_data, json_file, ensure_ascii=False, indent=4)\n",
    "\n",
    "print(f\"所有檔案已合併完成，JSON 檔案儲存為: {output_json}\")"
   ]
  },
  {
   "cell_type": "code",
   "execution_count": null,
   "id": "09a61a93-520d-4c01-946f-6d9e746aea5e",
   "metadata": {},
   "outputs": [],
   "source": []
  }
 ],
 "metadata": {
  "kernelspec": {
   "display_name": "Python 3 (ipykernel)",
   "language": "python",
   "name": "python3"
  },
  "language_info": {
   "codemirror_mode": {
    "name": "ipython",
    "version": 3
   },
   "file_extension": ".py",
   "mimetype": "text/x-python",
   "name": "python",
   "nbconvert_exporter": "python",
   "pygments_lexer": "ipython3",
   "version": "3.12.7"
  }
 },
 "nbformat": 4,
 "nbformat_minor": 5
}
