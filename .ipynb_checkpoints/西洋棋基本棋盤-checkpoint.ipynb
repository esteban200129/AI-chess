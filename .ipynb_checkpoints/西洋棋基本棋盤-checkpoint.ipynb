{
 "cells": [
  {
   "cell_type": "code",
   "execution_count": 4,
   "id": "b0cd4212-c919-40e5-8c41-c9f6508f0296",
   "metadata": {},
   "outputs": [
    {
     "name": "stdout",
     "output_type": "stream",
     "text": [
      "插件安裝成功！\n"
     ]
    }
   ],
   "source": [
    "import chess\n",
    "import chess.engine\n",
    "print(\"插件安裝成功！\")"
   ]
  },
  {
   "cell_type": "code",
   "execution_count": 3,
   "id": "c64a4e85-6ed1-483d-8a78-03424ac96f38",
   "metadata": {},
   "outputs": [
    {
     "name": "stdout",
     "output_type": "stream",
     "text": [
      "Stockfish 引擎啟動成功！\n"
     ]
    }
   ],
   "source": [
    "import chess.engine\n",
    "\n",
    "# 使用正確的 Stockfish 路徑\n",
    "engine_path = \"/opt/homebrew/bin/stockfish\"\n",
    "try:\n",
    "    # 啟動 Stockfish 引擎\n",
    "    engine = chess.engine.SimpleEngine.popen_uci(engine_path)\n",
    "    print(\"Stockfish 引擎啟動成功！\")\n",
    "    engine.quit()  # 測試完畢後關閉引擎\n",
    "except FileNotFoundError:\n",
    "    print(f\"無法找到 Stockfish 引擎，請確認路徑是否正確：{engine_path}\")\n",
    "except Exception as e:\n",
    "    print(f\"發生錯誤：{e}\")"
   ]
  },
  {
   "cell_type": "code",
   "execution_count": 4,
   "id": "ef3dddf6-b5ab-43d5-9885-bbe6185ac7a7",
   "metadata": {},
   "outputs": [
    {
     "name": "stdout",
     "output_type": "stream",
     "text": [
      "當前棋盤：\n",
      "r n b q k b n r\n",
      "p p p p p p p p\n",
      ". . . . . . . .\n",
      ". . . . . . . .\n",
      ". . . . . . . .\n",
      ". . . . . . . .\n",
      "P P P P P P P P\n",
      "R N B Q K B N R\n",
      "引擎建議的走法： e2e4\n"
     ]
    }
   ],
   "source": [
    "# 開啟引擎進行分析\n",
    "with chess.engine.SimpleEngine.popen_uci(engine_path) as engine:\n",
    "    # 建立一個初始棋盤\n",
    "    board = chess.Board()\n",
    "    print(\"當前棋盤：\")\n",
    "    print(board)\n",
    "\n",
    "    # 讓引擎分析當前棋盤\n",
    "    result = engine.play(board, chess.engine.Limit(time=2.0))  # 分析2秒\n",
    "    print(\"引擎建議的走法：\", result.move)"
   ]
  },
  {
   "cell_type": "code",
   "execution_count": null,
   "id": "f7209873-2768-4cd0-811b-bf0dabd235dd",
   "metadata": {},
   "outputs": [],
   "source": []
  }
 ],
 "metadata": {
  "kernelspec": {
   "display_name": "Python 3 (ipykernel)",
   "language": "python",
   "name": "python3"
  },
  "language_info": {
   "codemirror_mode": {
    "name": "ipython",
    "version": 3
   },
   "file_extension": ".py",
   "mimetype": "text/x-python",
   "name": "python",
   "nbconvert_exporter": "python",
   "pygments_lexer": "ipython3",
   "version": "3.12.7"
  }
 },
 "nbformat": 4,
 "nbformat_minor": 5
}
