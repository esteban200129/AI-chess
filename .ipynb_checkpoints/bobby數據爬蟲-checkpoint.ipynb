{
 "cells": [
  {
   "cell_type": "code",
   "execution_count": null,
   "id": "21a340b2-57a4-4ec0-bc60-e8f8ca2183da",
   "metadata": {},
   "outputs": [],
   "source": [
    "!pip install requests beautifulsoup4"
   ]
  },
  {
   "cell_type": "code",
   "execution_count": null,
   "id": "cbc04722-d560-4090-818d-74da5b4ee084",
   "metadata": {},
   "outputs": [],
   "source": [
    "pip install selenium"
   ]
  },
  {
   "cell_type": "code",
   "execution_count": 3,
   "id": "1bb9fa1b-a404-419f-b44d-18be123c5c76",
   "metadata": {},
   "outputs": [
    {
     "name": "stdout",
     "output_type": "stream",
     "text": [
      "成功打開 Firefox 瀏覽器，當前標題是： Google\n"
     ]
    }
   ],
   "source": [
    "from selenium import webdriver\n",
    "\n",
    "# 初始化 Firefox 瀏覽器\n",
    "driver = webdriver.Firefox()  # 如果 Geckodriver 不在 PATH，需要指定 executable_path\n",
    "driver.get(\"https://www.google.com\")  # 打開 Google\n",
    "\n",
    "# 驗證是否成功\n",
    "print(\"成功打開 Firefox 瀏覽器，當前標題是：\", driver.title)\n",
    "\n",
    "# 關閉瀏覽器\n",
    "driver.quit()"
   ]
  },
  {
   "cell_type": "code",
   "execution_count": 4,
   "id": "4eb99a74-1cdb-4ed8-bea1-d3cd4109a70c",
   "metadata": {},
   "outputs": [
    {
     "name": "stdout",
     "output_type": "stream",
     "text": [
      "https://www.chessgames.com/perl/pgndownload_inactive\n",
      "https://www.chessgames.com/perl/pgndownload_inactive\n"
     ]
    }
   ],
   "source": [
    "from selenium import webdriver\n",
    "from selenium.webdriver.common.by import By\n",
    "\n",
    "# 初始化 Firefox 瀏覽器\n",
    "driver = webdriver.Firefox()\n",
    "\n",
    "# 打開 Bobby Fischer 的對局列表頁面\n",
    "driver.get(\"https://www.chessgames.com/perl/chessplayer?pid=19233\")\n",
    "\n",
    "# 抓取所有包含 \"pgn\" 的下載連結\n",
    "links = driver.find_elements(By.XPATH, '//a[contains(@href, \"pgn\")]')\n",
    "\n",
    "# 打印每個 PGN 下載連結\n",
    "for link in links:\n",
    "    print(link.get_attribute('href'))\n",
    "\n",
    "# 關閉瀏覽器\n",
    "driver.quit()"
   ]
  },
  {
   "cell_type": "code",
   "execution_count": 5,
   "id": "64b16b03-bb0e-46c1-b436-dae83357d78a",
   "metadata": {},
   "outputs": [
    {
     "name": "stdout",
     "output_type": "stream",
     "text": [
      "抓取到對局數據連結：https://www.chessgames.com/perl/pgndownload_inactive\n",
      "抓取到對局數據連結：https://www.chessgames.com/perl/pgndownload_inactive\n",
      "沒有更多頁面，爬取完成。\n",
      "完成！已保存 0 場對局數據到 fischer_games.pgn\n"
     ]
    }
   ],
   "source": [
    "from selenium import webdriver\n",
    "from selenium.webdriver.common.by import By\n",
    "import time\n",
    "import requests\n",
    "\n",
    "def fetch_fischer_games():\n",
    "    # 初始化 Firefox 瀏覽器\n",
    "    driver = webdriver.Firefox()\n",
    "\n",
    "    # 打開 Bobby Fischer 的對局列表頁面\n",
    "    driver.get(\"https://www.chessgames.com/perl/chessplayer?pid=19233\")\n",
    "\n",
    "    # 用來保存所有對局數據的列表\n",
    "    all_games = []\n",
    "\n",
    "    while True:\n",
    "        # 抓取當前頁面的所有 PGN 下載連結\n",
    "        links = driver.find_elements(By.XPATH, '//a[contains(@href, \"pgn\")]')\n",
    "        for link in links:\n",
    "            game_url = link.get_attribute('href')  # 獲取下載連結\n",
    "            print(f\"抓取到對局數據連結：{game_url}\")\n",
    "\n",
    "            # 嘗試下載對局數據\n",
    "            try:\n",
    "                response = requests.get(game_url)\n",
    "                if response.status_code == 200:\n",
    "                    all_games.append(response.text)  # 保存對局數據\n",
    "            except Exception as e:\n",
    "                print(f\"下載失敗：{e}\")\n",
    "\n",
    "        # 嘗試點擊下一頁\n",
    "        try:\n",
    "            next_button = driver.find_element(By.LINK_TEXT, \"Next\")\n",
    "            next_button.click()  # 點擊 \"Next\" 按鈕\n",
    "            time.sleep(2)  # 等待頁面加載\n",
    "        except:\n",
    "            print(\"沒有更多頁面，爬取完成。\")\n",
    "            break\n",
    "\n",
    "    # 關閉瀏覽器\n",
    "    driver.quit()\n",
    "\n",
    "    # 將抓取到的數據保存到本地文件\n",
    "    output_file = \"fischer_games.pgn\"\n",
    "    with open(output_file, 'w', encoding='utf-8') as f:\n",
    "        for game in all_games:\n",
    "            f.write(game + \"\\n\\n\")\n",
    "    print(f\"完成！已保存 {len(all_games)} 場對局數據到 {output_file}\")\n",
    "\n",
    "# 執行爬蟲\n",
    "if __name__ == \"__main__\":\n",
    "    fetch_fischer_games()"
   ]
  },
  {
   "cell_type": "code",
   "execution_count": null,
   "id": "88fa4181-180c-4207-b800-52bc64119371",
   "metadata": {},
   "outputs": [],
   "source": []
  }
 ],
 "metadata": {
  "kernelspec": {
   "display_name": "Python 3 (ipykernel)",
   "language": "python",
   "name": "python3"
  },
  "language_info": {
   "codemirror_mode": {
    "name": "ipython",
    "version": 3
   },
   "file_extension": ".py",
   "mimetype": "text/x-python",
   "name": "python",
   "nbconvert_exporter": "python",
   "pygments_lexer": "ipython3",
   "version": "3.12.7"
  }
 },
 "nbformat": 4,
 "nbformat_minor": 5
}
