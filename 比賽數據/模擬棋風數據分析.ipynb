{
 "cells": [
  {
   "cell_type": "code",
   "execution_count": 1,
   "id": "d567947a-9880-4026-8c64-63bc6d1f85e5",
   "metadata": {},
   "outputs": [
    {
     "name": "stdout",
     "output_type": "stream",
     "text": [
      "bobby_recommendations.json 生成成功！\n"
     ]
    }
   ],
   "source": [
    "import json\n",
    "from collections import defaultdict\n",
    "\n",
    "# 讀取 game_data_final.json\n",
    "with open(\"game_data_final.json\", \"r\") as f:\n",
    "    games_data = json.load(f)\n",
    "\n",
    "# 儲存推薦數據的字典\n",
    "recommendations = defaultdict(list)\n",
    "\n",
    "# 遍歷每局棋譜數據\n",
    "for game in games_data:\n",
    "    moves = game[\"moves\"].split(\" \")  # 分割走棋序列\n",
    "    fen_sequence = \"\"  # 用來構建當前的 PGN 序列\n",
    "    \n",
    "    for i in range(len(moves) - 1):\n",
    "        # 構建當前的 PGN 走棋序列\n",
    "        current_fen = \" \".join(moves[:i + 1])\n",
    "        next_move = moves[i + 1]\n",
    "        \n",
    "        # 查找或新增此 PGN 的後續推薦走法\n",
    "        found = False\n",
    "        for entry in recommendations[current_fen]:\n",
    "            if entry[\"move\"] == next_move:\n",
    "                entry[\"count\"] += 1\n",
    "                found = True\n",
    "                break\n",
    "        if not found:\n",
    "            recommendations[current_fen].append({\"move\": next_move, \"count\": 1})\n",
    "\n",
    "# 整理推薦數據，將出現次數轉換為機率\n",
    "final_recommendations = {}\n",
    "for fen, moves in recommendations.items():\n",
    "    total_count = sum(move[\"count\"] for move in moves)\n",
    "    final_recommendations[fen] = [\n",
    "        {\"move\": move[\"move\"], \"Probability%\": f\"{(move['count'] / total_count) * 100:.2f}%\"}\n",
    "        for move in sorted(moves, key=lambda x: -x[\"count\"])\n",
    "    ]\n",
    "\n",
    "# 輸出為 bobby_recommendations.json\n",
    "with open(\"bobby_recommendations.json\", \"w\") as f:\n",
    "    json.dump(final_recommendations, f, indent=4)\n",
    "\n",
    "print(\"bobby_recommendations.json 生成成功！\")"
   ]
  },
  {
   "cell_type": "code",
   "execution_count": null,
   "id": "07825872-3daf-41f5-b29e-6fad223c6e7f",
   "metadata": {},
   "outputs": [],
   "source": []
  }
 ],
 "metadata": {
  "kernelspec": {
   "display_name": "Python 3 (ipykernel)",
   "language": "python",
   "name": "python3"
  },
  "language_info": {
   "codemirror_mode": {
    "name": "ipython",
    "version": 3
   },
   "file_extension": ".py",
   "mimetype": "text/x-python",
   "name": "python",
   "nbconvert_exporter": "python",
   "pygments_lexer": "ipython3",
   "version": "3.12.7"
  }
 },
 "nbformat": 4,
 "nbformat_minor": 5
}
