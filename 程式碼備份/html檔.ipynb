{
 "cells": [
  {
   "cell_type": "code",
   "execution_count": null,
   "id": "2fa6e0bb-09ff-484a-9982-e487a8676ff3",
   "metadata": {},
   "outputs": [],
   "source": [
    "<!DOCTYPE html>\n",
    "<html lang=\"en\">\n",
    "<head>\n",
    "    <meta charset=\"UTF-8\">\n",
    "    <meta name=\"viewport\" content=\"width=device-width, initial-scale=1.0\">\n",
    "    <title>Chess Game</title>\n",
    "    <link rel=\"stylesheet\" href=\"{{ url_for('static', filename='css/style.css') }}\">\n",
    "</head>\n",
    "<body>\n",
    "    <h1>Chess Game</h1>\n",
    "    <div id=\"game-container\">\n",
    "        <div id=\"move-list-container\">\n",
    "            <h3>PGN Moves</h3>\n",
    "            <div id=\"move-list\">\n",
    "                <!-- PGN 棋譜將由 JavaScript 動態插入 -->\n",
    "            </div>\n",
    "        </div>\n",
    "        <div id=\"chess-board\">\n",
    "            <!-- 棋盤將由 JavaScript 動態生成 -->\n",
    "        </div>\n",
    "    </div>\n",
    "    <div id=\"controls\">\n",
    "        <button id=\"undo-button\">Undo Move</button>\n",
    "        <button id=\"ai-move-button\">AI Move</button>\n",
    "        <button id=\"reset-button\">Reset Board</button>\n",
    "    </div>\n",
    "    <div id=\"game-info\">\n",
    "        <p id=\"opening-name\">Current Opening: Unknown</p>\n",
    "        <p id=\"last-move\">Last Move: None</p>\n",
    "        <p id=\"game-status\">Game is ongoing</p>\n",
    "    </div>\n",
    "    <div id=\"recommendations-container\">\n",
    "        <h3>Recommended Moves</h3>\n",
    "        <div id=\"recommended-moves\">\n",
    "            <!-- 推薦的下一步棋將由 JavaScript 動態插入 -->\n",
    "        </div>\n",
    "    </div>\n",
    "    <script>\n",
    "        const boardFen = \"{{ board_fen }}\";  <!-- 從後端傳入初始棋盤狀態 -->\n",
    "    </script>\n",
    "    <script src=\"{{ url_for('static', filename='js/script.js') }}\"></script>\n",
    "</body>\n",
    "</html>"
   ]
  }
 ],
 "metadata": {
  "kernelspec": {
   "display_name": "Python 3 (ipykernel)",
   "language": "python",
   "name": "python3"
  },
  "language_info": {
   "codemirror_mode": {
    "name": "ipython",
    "version": 3
   },
   "file_extension": ".py",
   "mimetype": "text/x-python",
   "name": "python",
   "nbconvert_exporter": "python",
   "pygments_lexer": "ipython3",
   "version": "3.12.7"
  }
 },
 "nbformat": 4,
 "nbformat_minor": 5
}
